{
 "cells": [
  {
   "cell_type": "markdown",
   "metadata": {},
   "source": [
    "# Introduction to Data Science 2025\n",
    "\n",
    "# Week 6: Recap"
   ]
  },
  {
   "cell_type": "markdown",
   "metadata": {},
   "source": [
    "## Exercise 1 | Linear regression with feature selection"
   ]
  },
  {
   "cell_type": "markdown",
   "metadata": {},
   "source": [
    "Download the [TED Talks](https://www.kaggle.com/rounakbanik/ted-talks) dataset from Kaggle. Your task is to predict both the ratings and the number of views of a given TED talk. You should focus only on the <span style=\"font-weight: bold\">ted_main</span> table.\n",
    "\n",
    "1. Download the data, extract the following ratings from column <span style=\"font-weight: bold\">ratings</span>: <span style=\"font-weight: bold\">Funny</span>, <span style=\"font-weight: bold\">Confusing</span>, <span style=\"font-weight: bold\">Inspiring</span>. Store these values into respective columns so that they are easier to access. Next, extract the tags from column <span style=\"font-weight: bold\">tags</span>. Count the number of occurrences of each tag and select the top-100 most common tags. Create a binary variable for each of these and include them in your data table, so that you can directly see whether a given tag (among the top-100 tags) is used in a given TED talk or not. The dataset you compose should have dimension (2550, 104), and comprise of the 'views' column, the three columns with counts of \"Funny\", \"Confusing and \"Inspiring\" ratings, and 100 columns which one-hot encode the top-100 most common tag columns.\n"
   ]
  },
  {
   "cell_type": "code",
   "execution_count": null,
   "metadata": {},
   "outputs": [
    {
     "name": "stdout",
     "output_type": "stream",
     "text": [
      "(2550, 104)\n",
      "      views  Funny  Confusing  Inspiring  technology  science  global issues  \\\n",
      "0  47227110  19645        242      24924           0        0              0   \n",
      "1   3200520    544         62        413           1        1              1   \n",
      "2   1636292    964         27        230           1        0              0   \n",
      "3   1697550     59         32       1070           0        0              0   \n",
      "4  12005869   1390         72       2893           0        0              1   \n",
      "\n",
      "   culture  TEDx  design  ...  food  religion  peace  ecology  family  demo  \\\n",
      "0        1     0       0  ...     0         0      0        0       0     0   \n",
      "1        1     0       0  ...     0         0      0        0       0     0   \n",
      "2        0     0       0  ...     0         0      0        0       0     0   \n",
      "3        0     0       0  ...     0         0      0        0       0     0   \n",
      "4        0     0       0  ...     0         0      0        0       0     1   \n",
      "\n",
      "   poetry  illness  universe  energy  \n",
      "0       0        0         0       0  \n",
      "1       0        0         0       0  \n",
      "2       0        0         0       0  \n",
      "3       0        0         0       0  \n",
      "4       0        0         0       0  \n",
      "\n",
      "[5 rows x 104 columns]\n"
     ]
    },
    {
     "name": "stderr",
     "output_type": "stream",
     "text": [
      "/tmp/ipykernel_11953/4086323707.py:24: PerformanceWarning: DataFrame is highly fragmented.  This is usually the result of calling `frame.insert` many times, which has poor performance.  Consider joining all columns at once using pd.concat(axis=1) instead. To get a de-fragmented frame, use `newframe = frame.copy()`\n",
      "  for t in top:df[t]=df[\"tag_list\"].apply(lambda x:int(t in x))\n",
      "/tmp/ipykernel_11953/4086323707.py:24: PerformanceWarning: DataFrame is highly fragmented.  This is usually the result of calling `frame.insert` many times, which has poor performance.  Consider joining all columns at once using pd.concat(axis=1) instead. To get a de-fragmented frame, use `newframe = frame.copy()`\n",
      "  for t in top:df[t]=df[\"tag_list\"].apply(lambda x:int(t in x))\n",
      "/tmp/ipykernel_11953/4086323707.py:24: PerformanceWarning: DataFrame is highly fragmented.  This is usually the result of calling `frame.insert` many times, which has poor performance.  Consider joining all columns at once using pd.concat(axis=1) instead. To get a de-fragmented frame, use `newframe = frame.copy()`\n",
      "  for t in top:df[t]=df[\"tag_list\"].apply(lambda x:int(t in x))\n",
      "/tmp/ipykernel_11953/4086323707.py:24: PerformanceWarning: DataFrame is highly fragmented.  This is usually the result of calling `frame.insert` many times, which has poor performance.  Consider joining all columns at once using pd.concat(axis=1) instead. To get a de-fragmented frame, use `newframe = frame.copy()`\n",
      "  for t in top:df[t]=df[\"tag_list\"].apply(lambda x:int(t in x))\n",
      "/tmp/ipykernel_11953/4086323707.py:24: PerformanceWarning: DataFrame is highly fragmented.  This is usually the result of calling `frame.insert` many times, which has poor performance.  Consider joining all columns at once using pd.concat(axis=1) instead. To get a de-fragmented frame, use `newframe = frame.copy()`\n",
      "  for t in top:df[t]=df[\"tag_list\"].apply(lambda x:int(t in x))\n",
      "/tmp/ipykernel_11953/4086323707.py:24: PerformanceWarning: DataFrame is highly fragmented.  This is usually the result of calling `frame.insert` many times, which has poor performance.  Consider joining all columns at once using pd.concat(axis=1) instead. To get a de-fragmented frame, use `newframe = frame.copy()`\n",
      "  for t in top:df[t]=df[\"tag_list\"].apply(lambda x:int(t in x))\n"
     ]
    }
   ],
   "source": [
    "import pandas as pd,ast\n",
    "from collections import Counter\n",
    "from sklearn.model_selection import train_test_split\n",
    "from sklearn.linear_model import LinearRegression\n",
    "from sklearn.metrics import r2_score,mean_squared_error\n",
    "from sklearn.linear_model import LassoCV\n",
    "import numpy as np\n",
    "from math import sqrt\n",
    "\n",
    "df=pd.read_csv(\"ted_main.csv\")\n",
    "def rc(s,n):\n",
    "    try:\n",
    "        r=ast.literal_eval(s)\n",
    "        for i in r:\n",
    "            if i[\"name\"]==n:return i[\"count\"]\n",
    "    except:return 0\n",
    "    return 0\n",
    "df[\"Funny\"]=df[\"ratings\"].apply(lambda x:rc(x,\"Funny\"))\n",
    "df[\"Confusing\"]=df[\"ratings\"].apply(lambda x:rc(x,\"Confusing\"))\n",
    "df[\"Inspiring\"]=df[\"ratings\"].apply(lambda x:rc(x,\"Inspiring\"))\n",
    "df[\"tag_list\"]=df[\"tags\"].apply(lambda x:ast.literal_eval(x))\n",
    "tags=[t for l in df[\"tag_list\"] for t in l]\n",
    "top=[t for t,_ in Counter(tags).most_common(100)]\n",
    "for t in top:df[t]=df[\"tag_list\"].apply(lambda x:int(t in x))\n",
    "cols=[\"views\",\"Funny\",\"Confusing\",\"Inspiring\"]+top\n",
    "data=df[cols]\n",
    "print(data.shape)\n",
    "print(data.head())\n"
   ]
  },
  {
   "cell_type": "markdown",
   "metadata": {},
   "source": [
    "2. Construct a linear regression model to predict the number of views based on the data in the <span style=\"font-weight: bold\">ted_main</span> table, including the binary variables for the top-100 tags that you just created."
   ]
  },
  {
   "cell_type": "code",
   "execution_count": 33,
   "metadata": {},
   "outputs": [
    {
     "name": "stdout",
     "output_type": "stream",
     "text": [
      "R2: 0.674946955213626\n",
      "RMSE: 1123480.1881770883\n"
     ]
    }
   ],
   "source": [
    "X=data.drop(\"views\",axis=1)\n",
    "y=data[\"views\"]\n",
    "X_train,X_test,y_train,y_test=train_test_split(X,y,test_size=0.2,random_state=42)\n",
    "model=LinearRegression()\n",
    "model.fit(X_train,y_train)\n",
    "y_pred=model.predict(X_test)\n",
    "print(\"R2:\",r2_score(y_test,y_pred))\n",
    "print(\"RMSE:\", sqrt(mean_squared_error(y_test, y_pred)))"
   ]
  },
  {
   "cell_type": "markdown",
   "metadata": {},
   "source": [
    "3. Do the same for the <span style=\"font-weight: bold\">Funny</span>, <span style=\"font-weight: bold\">Confusing</span>, and <span style=\"font-weight: bold\">Inspiring</span> ratings."
   ]
  },
  {
   "cell_type": "code",
   "execution_count": 34,
   "metadata": {},
   "outputs": [
    {
     "name": "stdout",
     "output_type": "stream",
     "text": [
      "Funny R2: 0.2093054993393716 RMSE: 325.8434805509552\n",
      "Confusing R2: 0.18953655784818524 RMSE: 27.08909130838316\n",
      "Inspiring R2: 0.07712709702403364 RMSE: 920.5725868105574\n"
     ]
    }
   ],
   "source": [
    "targets=[\"Funny\",\"Confusing\",\"Inspiring\"]\n",
    "for t in targets:\n",
    "    X=data.drop([\"views\",\"Funny\",\"Confusing\",\"Inspiring\"],axis=1)\n",
    "    y=data[t]\n",
    "    X_train,X_test,y_train,y_test=train_test_split(X,y,test_size=0.2,random_state=42)\n",
    "    model=LinearRegression()\n",
    "    model.fit(X_train,y_train)\n",
    "    y_pred=model.predict(X_test)\n",
    "    print(t,\"R2:\",r2_score(y_test,y_pred),\"RMSE:\",sqrt(mean_squared_error(y_test,y_pred)))\n"
   ]
  },
  {
   "cell_type": "markdown",
   "metadata": {},
   "source": [
    "4. You will probably notice that most of the tags are not useful in predicting the views and the ratings. You should use some kind of variable selection to prune the set of tags that are included in the model. You can use for example classical p-values or more modern [LASSO](https://en.wikipedia.org/wiki/Lasso_(statistics)) techniques. Which tags are the best predictors of each of the response variables?"
   ]
  },
  {
   "cell_type": "code",
   "execution_count": 35,
   "metadata": {},
   "outputs": [
    {
     "name": "stdout",
     "output_type": "stream",
     "text": [
      "views best predictors:\n",
      "psychology       1.547282e+06\n",
      "work             7.895974e+05\n",
      "motivation       5.747320e+05\n",
      "culture          5.642394e+05\n",
      "brain            4.908181e+05\n",
      "demo             4.324695e+05\n",
      "global issues   -4.017183e+05\n",
      "art             -3.137049e+05\n",
      "humor            2.986529e+05\n",
      "education        2.924200e+05\n",
      "dtype: float64\n",
      "\n",
      "Funny best predictors:\n",
      "humor            713.548145\n",
      "entertainment    123.734510\n",
      "psychology       119.639214\n",
      "work             110.651055\n",
      "culture          110.321882\n",
      "creativity        97.136023\n",
      "education         73.676552\n",
      "children          58.942449\n",
      "global issues    -58.422355\n",
      "design           -40.382740\n",
      "dtype: float64\n",
      "\n",
      "Confusing best predictors:\n",
      "evolution     16.194700\n",
      "philosophy    15.329317\n",
      "religion      12.876535\n",
      "physics       12.636914\n",
      "psychology    11.316561\n",
      "brain         10.874812\n",
      "culture        9.024819\n",
      "math           8.802251\n",
      "animals       -6.511811\n",
      "Africa        -6.244186\n",
      "dtype: float64\n",
      "\n",
      "Inspiring best predictors:\n",
      "psychology       694.919514\n",
      "work             447.515318\n",
      "mental health    436.239432\n",
      "education        360.306261\n",
      "happiness        298.407098\n",
      "business         236.146013\n",
      "creativity       235.567983\n",
      "economics       -231.452859\n",
      "motivation       231.350991\n",
      "culture          220.565603\n",
      "dtype: float64\n",
      "\n"
     ]
    }
   ],
   "source": [
    "X_full=data.drop([\"views\",\"Funny\",\"Confusing\",\"Inspiring\"],axis=1)\n",
    "y_vars={\"views\":data[\"views\"],\"Funny\":data[\"Funny\"],\"Confusing\":data[\"Confusing\"],\"Inspiring\":data[\"Inspiring\"]}\n",
    "for name,y in y_vars.items():\n",
    "    model=LassoCV(cv=5,random_state=42).fit(X_full,y)\n",
    "    coef=pd.Series(model.coef_,index=X_full.columns)\n",
    "    best=coef[coef!=0].sort_values(key=np.abs,ascending=False)\n",
    "    print(name,\"best predictors:\")\n",
    "    print(best.head(10))\n",
    "    print()"
   ]
  },
  {
   "cell_type": "markdown",
   "metadata": {},
   "source": [
    "5. Produce summaries of your results. Could you recommend good tags – or tags to avoid! – for speakers targeting plenty of views and/or certain ratings?"
   ]
  },
  {
   "cell_type": "code",
   "execution_count": null,
   "metadata": {},
   "outputs": [
    {
     "name": "stdout",
     "output_type": "stream",
     "text": [
      "\n",
      "views — top positive predictors:\n",
      "mental health    2.585914e+05\n",
      "business         2.702778e+05\n",
      "education        2.924200e+05\n",
      "humor            2.986529e+05\n",
      "demo             4.324695e+05\n",
      "brain            4.908181e+05\n",
      "culture          5.642394e+05\n",
      "motivation       5.747320e+05\n",
      "work             7.895974e+05\n",
      "psychology       1.547282e+06\n",
      "dtype: float64\n",
      "\n",
      "views — top negative predictors:\n",
      "global issues   -401718.250775\n",
      "art             -313704.926421\n",
      "design          -266147.634624\n",
      "politics        -236657.383932\n",
      "economics       -226233.810284\n",
      "health care     -167041.280598\n",
      "war             -159669.057536\n",
      "science         -159247.114933\n",
      "activism        -153037.447722\n",
      "technology      -142141.789857\n",
      "dtype: float64\n",
      "\n",
      "Funny — top positive predictors:\n",
      "motivation         1.093644\n",
      "happiness         20.567568\n",
      "children          58.942449\n",
      "education         73.676552\n",
      "creativity        97.136023\n",
      "culture          110.321882\n",
      "work             110.651055\n",
      "psychology       119.639214\n",
      "entertainment    123.734510\n",
      "humor            713.548145\n",
      "dtype: float64\n",
      "\n",
      "Funny — top negative predictors:\n",
      "global issues   -58.422355\n",
      "design          -40.382740\n",
      "art             -32.034880\n",
      "technology      -15.850708\n",
      "music            -7.298903\n",
      "society          -4.773061\n",
      "motivation        1.093644\n",
      "happiness        20.567568\n",
      "children         58.942449\n",
      "education        73.676552\n",
      "dtype: float64\n",
      "\n",
      "Confusing — top positive predictors:\n",
      "science           5.386596\n",
      "entertainment     6.097129\n",
      "math              8.802251\n",
      "culture           9.024819\n",
      "brain            10.874812\n",
      "psychology       11.316561\n",
      "physics          12.636914\n",
      "religion         12.876535\n",
      "philosophy       15.329317\n",
      "evolution        16.194700\n",
      "dtype: float64\n",
      "\n",
      "Confusing — top negative predictors:\n",
      "animals            -6.511811\n",
      "Africa             -6.244186\n",
      "innovation         -6.211619\n",
      "music              -5.839054\n",
      "oceans             -5.767176\n",
      "nature             -4.778900\n",
      "history            -4.404286\n",
      "medical research   -4.206818\n",
      "space              -4.109885\n",
      "life               -3.771863\n",
      "dtype: float64\n",
      "\n",
      "Inspiring — top positive predictors:\n",
      "life              78.829911\n",
      "culture          220.565603\n",
      "motivation       231.350991\n",
      "creativity       235.567983\n",
      "business         236.146013\n",
      "happiness        298.407098\n",
      "education        360.306261\n",
      "mental health    436.239432\n",
      "work             447.515318\n",
      "psychology       694.919514\n",
      "dtype: float64\n",
      "\n",
      "Inspiring — top negative predictors:\n",
      "economics      -231.452859\n",
      "science        -138.586794\n",
      "art            -129.455183\n",
      "technology     -106.927095\n",
      "neuroscience    -94.465960\n",
      "history         -94.399524\n",
      "design          -70.092848\n",
      "society         -33.174128\n",
      "TED Fellows     -12.519301\n",
      "music            -6.995236\n",
      "dtype: float64\n"
     ]
    }
   ],
   "source": [
    "X=data.drop([\"views\",\"Funny\",\"Confusing\",\"Inspiring\"],axis=1)\n",
    "y_vars={\"views\":data[\"views\"],\"Funny\":data[\"Funny\"],\"Confusing\":data[\"Confusing\"],\"Inspiring\":data[\"Inspiring\"]}\n",
    "results={}\n",
    "for name,y in y_vars.items():\n",
    "    model=LassoCV(cv=5,random_state=42).fit(X,y)\n",
    "    coef=pd.Series(model.coef_,index=X.columns)\n",
    "    selected=coef[coef!=0].sort_values()\n",
    "    results[name]=selected\n",
    "    print(f\"\\n{name} — top positive predictors:\")\n",
    "    print(selected.tail(10))\n",
    "    print(f\"\\n{name} — top negative predictors:\")\n",
    "    print(selected.head(10))\n",
    "\n",
    "#Increase views: psychology, work, motivation, culture, brain, demo, humor, education, business, mental health\n",
    "#Decrease views: global issues, art, design, politics, economics, health care, war, science, activism, technology"
   ]
  },
  {
   "cell_type": "markdown",
   "metadata": {},
   "source": [
    "**Remember to submit your code on the MOOC platform. You can return this Jupyter notebook (.ipynb) or .py, .R, etc depending on your programming preferences.**"
   ]
  },
  {
   "cell_type": "markdown",
   "metadata": {},
   "source": [
    "## Exercise 2 | Symbol classification (part 2)\n",
    "\n",
    "Note that it is strongly recommended to use Python in this exercise. However, if you can find a suitable AutoML implementation for your favorite language (e.g [here](http://h2o-release.s3.amazonaws.com/h2o/master/3888/docs-website/h2o-docs/automl.html) seems to be one for R) then you are free to use that language as well.\n",
    "\n",
    "Use the preprocessed data from week 3 (you can also produce them using the example solutions of week 3)."
   ]
  },
  {
   "cell_type": "markdown",
   "metadata": {},
   "source": [
    "1. This time train a *random forest classifier* on the data. A random forest is a collection of *decision trees*, which makes it an *ensemble* of classifiers. Each tree uses a random subset of the features to make its prediction. Without tuning any parameters, how is the accuracy?"
   ]
  },
  {
   "cell_type": "code",
   "execution_count": 37,
   "metadata": {},
   "outputs": [
    {
     "name": "stdout",
     "output_type": "stream",
     "text": [
      "X_train shape: (816, 1024)\n",
      "y_train shape: (816,)\n",
      "X_test shape: (204, 1024)\n",
      "y_test shape: (204,)\n",
      "Random Forest accuracy: 0.8627450980392157\n"
     ]
    },
    {
     "data": {
      "image/png": "[encoded data removed]",
      "text/plain": [
       "<Figure size 600x600 with 2 Axes>"
      ]
     },
     "metadata": {},
     "output_type": "display_data"
    }
   ],
   "source": [
    "import numpy as np\n",
    "from sklearn.ensemble import RandomForestClassifier\n",
    "from sklearn.metrics import accuracy_score\n",
    "import matplotlib.pyplot as plt\n",
    "\n",
    "X_train = np.load(\"X_train.npy\")\n",
    "y_train = np.load(\"y_train.npy\")\n",
    "X_test = np.load(\"X_test.npy\")\n",
    "y_test = np.load(\"y_test.npy\")\n",
    "\n",
    "print(\"X_train shape:\", X_train.shape)\n",
    "print(\"y_train shape:\", y_train.shape)\n",
    "print(\"X_test shape:\", X_test.shape)\n",
    "print(\"y_test shape:\", y_test.shape)\n",
    "\n",
    "rf = RandomForestClassifier(random_state=42)\n",
    "rf.fit(X_train, y_train)\n",
    "\n",
    "y_pred = rf.predict(X_test)\n",
    "acc = accuracy_score(y_test, y_pred)\n",
    "print(\"Random Forest accuracy:\", acc)\n",
    "\n",
    "importances = rf.feature_importances_.reshape(32, 32)\n",
    "plt.figure(figsize=(6,6))\n",
    "plt.imshow(importances, cmap=\"hot\")\n",
    "plt.colorbar()\n",
    "plt.show()"
   ]
  },
  {
   "cell_type": "markdown",
   "metadata": {},
   "source": [
    "2. The amount of trees to use as a part of the random forest is an example of a hyperparameter, because it is a parameter that is set prior to the learning process. In contrast, a parameter is a value in the model that is learned from the data. Train 20 classifiers, with varying amounts of decision trees starting from 10 up until 200, and plot the test accuracy as a function of the amount of classifiers. Does the accuracy keep increasing? Is more better?"
   ]
  },
  {
   "cell_type": "code",
   "execution_count": 38,
   "metadata": {},
   "outputs": [
    {
     "data": {
      "image/png": "[encoded data removed]",
      "text/plain": [
       "<Figure size 800x500 with 1 Axes>"
      ]
     },
     "metadata": {},
     "output_type": "display_data"
    }
   ],
   "source": [
    "n_trees = np.linspace(10, 200, 20, dtype=int)\n",
    "accs = []\n",
    "\n",
    "for n in n_trees:\n",
    "    rf = RandomForestClassifier(n_estimators=n, random_state=42)\n",
    "    rf.fit(X_train, y_train)\n",
    "    y_pred = rf.predict(X_test)\n",
    "    accs.append(accuracy_score(y_test, y_pred))\n",
    "\n",
    "plt.figure(figsize=(8,5))\n",
    "plt.plot(n_trees, accs, marker='o')\n",
    "plt.xlabel(\"nr of Trees\")\n",
    "plt.ylabel(\"Test Accuracy\")\n",
    "plt.grid(True)\n",
    "plt.show()\n"
   ]
  },
  {
   "cell_type": "markdown",
   "metadata": {},
   "source": [
    "3. If we had picked the amount of decision trees by taking the value with the best test accuracy from the last plot, we would have *overfit* our hyperparameters to the test data. Can you see why it is a mistake to tune hyperparameters of your model by using the test data?"
   ]
  },
  {
   "cell_type": "markdown",
   "metadata": {},
   "source": [
    "Tuning hyperparameters using the test data is a mistake because it biases the model to that specific test set giving an overoptimistic estimate of performance. The test set should only be used once at the end to evaluate the final model and hyperparameters should be selected using a separate validation set."
   ]
  },
  {
   "cell_type": "markdown",
   "metadata": {},
   "source": [
    "4. Reshuffle and resplit the data so that it is divided in 3 parts: training (80%), validation (10%) and test (10%). Repeatedly train a model of your choosing (e.g random forest) on the training data, and evaluate it’s performance on the validation set, while tuning the hyperparameters so that the accuracy on the validation set increases. Then, finally evaluate the performance of your model on the test data. What can you say in terms of the generalization of your model?"
   ]
  },
  {
   "cell_type": "code",
   "execution_count": 42,
   "metadata": {},
   "outputs": [
    {
     "name": "stdout",
     "output_type": "stream",
     "text": [
      "Validation accuracy: 0.8529411764705882\n",
      "Test accuracy: 0.8823529411764706\n"
     ]
    }
   ],
   "source": [
    "X_full = np.vstack([X_train, X_test])\n",
    "y_full = np.hstack([y_train, y_test])\n",
    "\n",
    "X_temp, X_final_test, y_temp, y_final_test = train_test_split(X_full, y_full, test_size=0.1, random_state=42)\n",
    "X_final_train, X_val, y_final_train, y_val = train_test_split(X_temp, y_temp, test_size=0.1111, random_state=42)\n",
    "\n",
    "best_acc = 0\n",
    "best_model = None\n",
    "\n",
    "for n_trees in range(10, 201, 10):\n",
    "    rf = RandomForestClassifier(n_estimators=n_trees, random_state=42)\n",
    "    rf.fit(X_final_train, y_final_train)\n",
    "    val_acc = accuracy_score(y_val, rf.predict(X_val))\n",
    "    if val_acc > best_acc:\n",
    "        best_acc = val_acc\n",
    "        best_model = rf\n",
    "\n",
    "test_acc = accuracy_score(y_final_test, best_model.predict(X_final_test))\n",
    "print(\"Validation accuracy:\", best_acc)\n",
    "print(\"Test accuracy:\", test_acc)"
   ]
  },
  {
   "cell_type": "markdown",
   "metadata": {},
   "source": [
    "**Remember to submit your code on the MOOC platform. You can return this Jupyter notebook (.ipynb) or .py, .R, etc depending on your programming preferences.**"
   ]
  },
  {
   "cell_type": "markdown",
   "metadata": {},
   "source": [
    "## Exercise 3 | TPOT"
   ]
  },
  {
   "cell_type": "markdown",
   "metadata": {},
   "source": [
    "The process of picking a suitable model, evaluating its performance and tuning the hyperparameters is very time consuming. A new idea in machine learning is the concept of automating this by using an optimization algorithm to find the best model in the space of models and their hyperparameters. Have a look at [TPOT](https://github.com/EpistasisLab/tpot), an automated ML solution that finds a good model and a good set of hyperparameters automatically. Try it on this data, it should outperform simple models like the ones we tried easily. Note that running the algorithm might take a while, depending on the strength of your computer. \n",
    "\n",
    "*Note*: In case it is running for too long, try checking if the parameters you are using when calling TPOT are reasonable, i.e. try reducing number of ‘generations’ or ‘population_size’. TPOT uses cross-validation internally, so we don’t need our own validation set."
   ]
  },
  {
   "cell_type": "code",
   "execution_count": null,
   "metadata": {},
   "outputs": [
    {
     "name": "stderr",
     "output_type": "stream",
     "text": [
      "/home/pniki/Desktop/wk6/.venv/lib/python3.10/site-packages/tpot/tpot_estimator/estimator.py:458: UserWarning: Both generations and max_time_mins are set. TPOT will terminate when the first condition is met.\n",
      "  warnings.warn(\"Both generations and max_time_mins are set. TPOT will terminate when the first condition is met.\")\n",
      "/home/pniki/Desktop/wk6/.venv/lib/python3.10/site-packages/distributed/node.py:187: UserWarning: Port 8787 is already in use.\n",
      "Perhaps you already have a cluster running?\n",
      "Hosting the HTTP server on port 41427 instead\n",
      "  warnings.warn(\n",
      "/home/pniki/Desktop/wk6/.venv/lib/python3.10/site-packages/tpot/tpot_estimator/estimator.py:537: UserWarning: Labels are not encoded as ints from 0 to N. For compatibility with some classifiers such as sklearn, TPOT has encoded y with the sklearn LabelEncoder. When using pipelines outside the main TPOT estimator class, you can encode the labels with est.label_encoder_\n",
      "  warnings.warn(\"Labels are not encoded as ints from 0 to N. For compatibility with some classifiers such as sklearn, TPOT has encoded y with the sklearn LabelEncoder. When using pipelines outside the main TPOT estimator class, you can encode the labels with est.label_encoder_\")\n",
      "Generation: 100%|██████████| 2/2 [07:14<00:00, 217.41s/it]\n"
     ]
    },
    {
     "name": "stdout",
     "output_type": "stream",
     "text": [
      "TPOT test accuracy: 0.0\n"
     ]
    },
    {
     "ename": "AttributeError",
     "evalue": "'TPOTClassifier' object has no attribute 'export'",
     "output_type": "error",
     "traceback": [
      "\u001b[0;31m---------------------------------------------------------------------------\u001b[0m",
      "\u001b[0;31mAttributeError\u001b[0m                            Traceback (most recent call last)",
      "Cell \u001b[0;32mIn[46], line 11\u001b[0m\n\u001b[1;32m      8\u001b[0m y_pred \u001b[38;5;241m=\u001b[39m tpot\u001b[38;5;241m.\u001b[39mpredict(X_test)\n\u001b[1;32m      9\u001b[0m \u001b[38;5;28mprint\u001b[39m(\u001b[38;5;124m\"\u001b[39m\u001b[38;5;124mTPOT test accuracy:\u001b[39m\u001b[38;5;124m\"\u001b[39m, accuracy_score(y_test, y_pred))\n\u001b[0;32m---> 11\u001b[0m \u001b[43mtpot\u001b[49m\u001b[38;5;241;43m.\u001b[39;49m\u001b[43mexport\u001b[49m(\u001b[38;5;124m\"\u001b[39m\u001b[38;5;124mtpot.py\u001b[39m\u001b[38;5;124m\"\u001b[39m)\n",
      "\u001b[0;31mAttributeError\u001b[0m: 'TPOTClassifier' object has no attribute 'export'"
     ]
    }
   ],
   "source": [
    "from tpot import TPOTClassifier\n",
    "from sklearn.metrics import accuracy_score\n",
    "\n",
    "tpot = TPOTClassifier(generations=5, population_size=20, random_state=42)\n",
    "tpot.fit(X_train, y_train)\n",
    "\n",
    "y_pred = tpot.predict(X_test)\n",
    "print(\"TPOT test accuracy:\", accuracy_score(y_test, y_pred))\n",
    "\n",
    "with open(\"tpot.py\", \"w\") as f:\n",
    "    f.write(tpot.fitted_pipeline_.__repr__())\n"
   ]
  },
  {
   "cell_type": "markdown",
   "metadata": {},
   "source": [
    "**Remember to submit your code on the MOOC platform. You can return this Jupyter notebook (.ipynb) or .py, .R, etc depending on your programming preferences.**"
   ]
  }
 ],
 "metadata": {
  "kernelspec": {
   "display_name": ".venv",
   "language": "python",
   "name": "python3"
  },
  "language_info": {
   "codemirror_mode": {
    "name": "ipython",
    "version": 3
   },
   "file_extension": ".py",
   "mimetype": "text/x-python",
   "name": "python",
   "nbconvert_exporter": "python",
   "pygments_lexer": "ipython3",
   "version": "3.10.12"
  }
 },
 "nbformat": 4,
 "nbformat_minor": 4
}
